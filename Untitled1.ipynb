{
 "cells": [
  {
   "cell_type": "code",
   "execution_count": 7,
   "id": "bdeaca07",
   "metadata": {},
   "outputs": [
    {
     "name": "stdout",
     "output_type": "stream",
     "text": [
      "Enter amount of bill = 2400\n",
      "Amount of tips (%) = 20\n",
      "Enter number of people = 7\n",
      "Each person owes: $343\n",
      "Tip per each person: $240\n",
      "Total amount owed: $583\n"
     ]
    }
   ],
   "source": [
    "totalbill = float(input(\"Enter amount of bill = \"))\n",
    "percentagetip = int(input(\"Amount of tips (%) = \"))\n",
    "nmbrppl = int(input(\"Enter number of people = \"))\n",
    "paymentperperson = (round(float(totalbill/nmbrppl)))\n",
    "print(f\"Each person owes: ${paymentperperson}\")\n",
    "tipowed = (round(float(totalbill*(10/100))))\n",
    "print(f\"Tip per each person: ${tipowed}\")\n",
    "totalperperson = (round(float(paymentperperson+tipowed)))\n",
    "print(f\"Total amount owed: ${totalperperson}\")"
   ]
  },
  {
   "cell_type": "code",
   "execution_count": null,
   "id": "35611ca3",
   "metadata": {},
   "outputs": [],
   "source": []
  }
 ],
 "metadata": {
  "kernelspec": {
   "display_name": "Python 3 (ipykernel)",
   "language": "python",
   "name": "python3"
  },
  "language_info": {
   "codemirror_mode": {
    "name": "ipython",
    "version": 3
   },
   "file_extension": ".py",
   "mimetype": "text/x-python",
   "name": "python",
   "nbconvert_exporter": "python",
   "pygments_lexer": "ipython3",
   "version": "3.10.7"
  }
 },
 "nbformat": 4,
 "nbformat_minor": 5
}
