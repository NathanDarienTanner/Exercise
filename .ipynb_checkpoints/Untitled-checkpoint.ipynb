{
 "cells": [
  {
   "cell_type": "code",
   "execution_count": null,
   "id": "b865b472",
   "metadata": {},
   "outputs": [],
   "source": [
    "#No.1 \n",
    "radius = int(input(\"Input the radius of a circle: \"))\n",
    "area = 22/7*radius**2\n",
    "\n",
    "print(area)"
   ]
  },
  {
   "cell_type": "code",
   "execution_count": null,
   "id": "7df67e87",
   "metadata": {},
   "outputs": [],
   "source": [
    "#No.2\n",
    "first = input(\"Enter your first name :\")\n",
    "last = input(\"Enter your last name :\")\n",
    "\n",
    "print(last,first)"
   ]
  },
  {
   "cell_type": "code",
   "execution_count": null,
   "id": "80f69ac5",
   "metadata": {},
   "outputs": [],
   "source": [
    "#No.3\n",
    "color_list = [\"Blue\",\"Black\",\"White\",\"Purple\"]\n",
    "\n",
    "print(\"The first color is\",color_list[0],\"and the last color is\",color_list[-1])"
   ]
  },
  {
   "cell_type": "code",
   "execution_count": null,
   "id": "c0f4901f",
   "metadata": {},
   "outputs": [],
   "source": [
    "#No.4\n",
    "n = int(input(\"Enter an integer: \"))\n",
    "\n",
    "print(n+n**2+n**3)"
   ]
  },
  {
   "cell_type": "code",
   "execution_count": null,
   "id": "cb893c7c",
   "metadata": {},
   "outputs": [],
   "source": [
    "#No.5\n",
    "r = 3\n",
    "vol = 4/3*22/7*r\n",
    "\n",
    "print(vol)"
   ]
  },
  {
   "cell_type": "code",
   "execution_count": null,
   "id": "bfe078fc",
   "metadata": {},
   "outputs": [],
   "source": [
    "#No.6\n",
    "i = int(input(\"Enter a number: \"))\n",
    "abs_diff = abs(17-i)\n",
    "if abs_diff > 17 :\n",
    "    abs_diff = 2*abs_diff\n",
    "\n",
    "print(f\"The absolute difference between {i} and 17 is {abs_diff}\")"
   ]
  },
  {
   "cell_type": "code",
   "execution_count": null,
   "id": "aa210917",
   "metadata": {},
   "outputs": [],
   "source": [
    "#No.7\n",
    "a,b,c = eval(input(\"Give three numbers seperated with commas: \"))\n",
    "sum = a+b+c\n",
    "if a == b == c :\n",
    "    sum = 3*sum\n",
    "    print(\"The three numbers are equal hence the triple of the sum is: \", sum)\n",
    "\n",
    "print(\"The sum of the three numbers is \")"
   ]
  },
  {
   "cell_type": "code",
   "execution_count": null,
   "id": "98b4ea6b",
   "metadata": {},
   "outputs": [],
   "source": [
    "#No.8\n",
    "i = int(input(\"Enter a number: \"))\n",
    "if i % 2==0:\n",
    "    print (f\"{i} is even\")\n",
    "else:\n",
    "    print(f\"{i} is odd\")"
   ]
  },
  {
   "cell_type": "code",
   "execution_count": null,
   "id": "0aca9fe7",
   "metadata": {},
   "outputs": [],
   "source": [
    "#No.9\n",
    "letter = str(input(\"enter a letter: \"))\n",
    "letter = letter.lower()\n",
    "vowel = ['a', 'i', 'u', 'e', 'o']\n",
    "if letter == 'a' or letter == 'i' or letter == 'u' or letter == 'e' or letter == 'o':\n",
    "   \n",
    "print(f\"{letter} is a vowel\")"
   ]
  },
  {
   "cell_type": "code",
   "execution_count": null,
   "id": "ef98d3bd",
   "metadata": {},
   "outputs": [],
   "source": [
    "#No.10\n",
    "list = [10, 8, 24, 28, 15, 23, 11]\n",
    "num = int(input(\"Enter a number: \"))\n",
    "flag = False\n",
    "for i in list:\n",
    "    if num == i:\n",
    "        flag = True\n",
    "if flag:\n",
    "    print(\"The number is in the list\")\n",
    "else:\n",
    "    print(\"The number is not in the list\")"
   ]
  },
  {
   "cell_type": "code",
   "execution_count": null,
   "id": "23c00523",
   "metadata": {},
   "outputs": [],
   "source": [
    "#No.11\n",
    "numbers = [0, 1, 1, 1, 2, 3, 7, 7, 23]\n",
    "histogram = {}\n",
    "for i in numbers:\n",
    "    histogram[i] = histogram.get(i, 0) + 1\n",
    "\n",
    "print(histogram)"
   ]
  },
  {
   "cell_type": "code",
   "execution_count": null,
   "id": "051479d2",
   "metadata": {},
   "outputs": [],
   "source": [
    "#No.12\n",
    "numbers = [386, 462, 47, 418, 907, 344, 236, 375, 823, 566, 597, 978, 328, 615, 953, 345,\n",
    "399, 162, 758, 219, 918, 237, 412, 566, 826, 248, 866, 950, 626, 949, 687, 217,\n",
    "815, 67, 104, 58, 512, 24, 892, 894, 767, 553, 81, 379, 843, 831, 445, 742, 717,\n",
    "958,743, 527]\n",
    "for i in numbers:\n",
    "    if i % 2 == 1 :\n",
    "        \n",
    "print(i)"
   ]
  },
  {
   "cell_type": "code",
   "execution_count": null,
   "id": "3651fdae",
   "metadata": {},
   "outputs": [],
   "source": [
    "#No.13\n",
    "base = int(input(\"Enter the base of a triangle: \"))\n",
    "height = int(input(\"Enter the height of a triangle: \"))\n",
    "area = 1/2 * base * height\n",
    "\n",
    "print(f\"The area of the triangle is {area}\")"
   ]
  },
  {
   "cell_type": "code",
   "execution_count": null,
   "id": "3c559c1f",
   "metadata": {},
   "outputs": [],
   "source": [
    "#No.14\n",
    "num_1 = int(input(\"Enter a number: \"))\n",
    "num_2 = int(input(\"Enter a second number: \"))\n",
    "multi_1 = num_1\n",
    "multi_2 = num_2\n",
    "\n",
    "while num_1 != num_2 :\n",
    "    if num_1 < num_2 :\n",
    "        num_1 += multi_1\n",
    "    elif num_1 > num_2 :\n",
    "        num_2 += multi_2\n",
    "        \n",
    "print (\"The lcm of the two numbers is\", num_1)"
   ]
  },
  {
   "cell_type": "code",
   "execution_count": null,
   "id": "ea45cbd6",
   "metadata": {},
   "outputs": [],
   "source": [
    "#No.15\n",
    "num_1 = int(input(\"Enter a number: \"))\n",
    "num_2 = int(input(\"Enter a second number: \"))\n",
    "num_3 = int(input(\"Enter a third number: \"))\n",
    "sum = num_1 + num_2 + num_3\n",
    "if num_1 == num_2 or num_1 == num_3 or num_2 == num_3 :\n",
    "    sum = 0\n",
    "    \n",
    "print(\"The sum of the three numbers is\", sum)"
   ]
  },
  {
   "cell_type": "code",
   "execution_count": null,
   "id": "8eb24b4e",
   "metadata": {},
   "outputs": [],
   "source": [
    "#No.16\n",
    "x = int(input(\"Enter an integer for x: \"))\n",
    "y = int(input(\"Enter an integer for y :\"))\n",
    "result = (x+y)**2\n",
    "\n",
    "print(f\"({x} + {y})^2 = {result}\")"
   ]
  },
  {
   "cell_type": "code",
   "execution_count": null,
   "id": "f23a3518",
   "metadata": {},
   "outputs": [],
   "source": [
    "#No.17\n",
    "amt = int(input(\"Enter an amount: \"))\n",
    "inter = float(input(\"Enter the rate of interest: \"))\n",
    "year = int(input(\"Enter the number of years: \"))\n",
    "i = 0\n",
    "while i != year:\n",
    "    amt = amt + inter/100*amt\n",
    "    i += 1\n",
    "amt = \"{:.2f}\".format(amt)\n",
    "\n",
    "print(amt)"
   ]
  },
  {
   "cell_type": "code",
   "execution_count": null,
   "id": "09a2fc36",
   "metadata": {},
   "outputs": [],
   "source": [
    "#No.18\n",
    "import math\n",
    "\n",
    "x1, y1 = eval(input(\"Enter a point (x, y): \"))\n",
    "x2, y2 = eval(input(\"Enter a second point (x,y): \"))\n",
    "distance_x = abs(x2-x1)\n",
    "distance_y = abs(y2-y1)\n",
    "distance = (distance_x)**2+(distance_y)**2\n",
    "\n",
    "print (\"The distance between the two points is\", math.sqrt(distance))"
   ]
  },
  {
   "cell_type": "code",
   "execution_count": null,
   "id": "404088c6",
   "metadata": {},
   "outputs": [],
   "source": [
    "#No.19\n",
    "n = int(input(\"Enter a number: \"))\n",
    "sum = n/2 * (1+n)\n",
    "\n",
    "print (sum)"
   ]
  },
  {
   "cell_type": "code",
   "execution_count": null,
   "id": "4829e21d",
   "metadata": {},
   "outputs": [],
   "source": [
    "#No.20\n",
    "feet,inch = eval(input(\"Enter your height in (foot,inches) seperated by commas: \"))\n",
    "height = feet * 30.48 + inch * 2.54\n",
    "\n",
    "print (\"Your height in centimeter is\", height)"
   ]
  },
  {
   "cell_type": "code",
   "execution_count": null,
   "id": "c9d60707",
   "metadata": {},
   "outputs": [],
   "source": [
    "#No.21\n",
    "import math\n",
    "\n",
    "base = int(input(\"Enter the base of the right angled triangle: \"))\n",
    "height = int(input(\"Enter the height of the right angled triangle: \"))\n",
    "hyp = base**2 + height**2\n",
    "\n",
    "print(\"The hypotenuse of the right angled triangle is\", math.sqrt(hyp))"
   ]
  },
  {
   "cell_type": "code",
   "execution_count": null,
   "id": "a452483d",
   "metadata": {},
   "outputs": [],
   "source": [
    "#No.22\n",
    "height = int(input(\"Enter your height in centimeters: \"))\n",
    "weight = int(input(\"Enter your weight in kilograms: \"))\n",
    "bmi = weight/((height/100)**2)\n",
    "\n",
    "print(\"Your bmi is\", bmi)"
   ]
  },
  {
   "cell_type": "code",
   "execution_count": null,
   "id": "9386f4a4",
   "metadata": {},
   "outputs": [],
   "source": [
    "#No.23\n",
    "x1,y1 = eval(input(\"Enter the coordinate of the first point of a line (x1,y1): \"))\n",
    "x2,y2 = eval(input(\"Enter the coordinate of the second point of a line (x2,y2): \"))\n",
    "\n",
    "x_mid = (x1+x2)/2\n",
    "y_mid = (y1+y2)/2\n",
    "\n",
    "print(f\"The midpoint of the line is ({x_mid}, {y_mid})\")"
   ]
  },
  {
   "cell_type": "code",
   "execution_count": null,
   "id": "6b3098ab",
   "metadata": {},
   "outputs": [],
   "source": [
    "#No.24\n",
    "for n in range(2000, 3201):\n",
    "    if n % 7 == 0 and not n % 5 == 0:\n",
    "        \n",
    "print(n, end=\",\")"
   ]
  }
 ],
 "metadata": {
  "kernelspec": {
   "display_name": "Python 3 (ipykernel)",
   "language": "python",
   "name": "python3"
  },
  "language_info": {
   "codemirror_mode": {
    "name": "ipython",
    "version": 3
   },
   "file_extension": ".py",
   "mimetype": "text/x-python",
   "name": "python",
   "nbconvert_exporter": "python",
   "pygments_lexer": "ipython3",
   "version": "3.10.7"
  }
 },
 "nbformat": 4,
 "nbformat_minor": 5
}
